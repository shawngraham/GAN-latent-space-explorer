{
  "nbformat": 4,
  "nbformat_minor": 0,
  "metadata": {
    "colab": {
      "provenance": [],
      "gpuType": "T4"
    },
    "kernelspec": {
      "name": "python3",
      "display_name": "Python 3"
    },
    "language_info": {
      "name": "python"
    },
    "accelerator": "GPU"
  },
  "cells": [
    {
      "cell_type": "markdown",
      "source": [
        "a notebook that trains a GAN; just a generic GANerator."
      ],
      "metadata": {
        "id": "fmSUZ3SJ3KNI"
      }
    },
    {
      "cell_type": "code",
      "source": [
        "# get some image data\n",
        "!pip install image_datasets\n",
        "import image_datasets\n",
        "image_datasets.oslomini.download()"
      ],
      "metadata": {
        "id": "TNgpq1kyXq_h"
      },
      "execution_count": null,
      "outputs": []
    },
    {
      "cell_type": "markdown",
      "source": [
        "Build a discriminator and generator network; run that puppy."
      ],
      "metadata": {
        "id": "H9z1cIuTBn3i"
      }
    },
    {
      "cell_type": "code",
      "source": [
        "import tensorflow as tf\n",
        "import numpy as np\n",
        "import matplotlib.pyplot as plt\n",
        "import os\n",
        "from PIL import Image\n",
        "from tqdm import tqdm\n",
        "\n",
        "# Hyperparameters\n",
        "IMG_WIDTH = 64\n",
        "IMG_HEIGHT = 64\n",
        "CHANNELS = 3\n",
        "BUFFER_SIZE = 60000\n",
        "BATCH_SIZE = 256\n",
        "EPOCHS = 500\n",
        "NOISE_DIM = 100\n",
        "\n",
        "# Data Loading and Preprocessing\n",
        "def load_images(folder_path):\n",
        "    \"\"\"Loads images from a specified folder, resizes them, and normalizes pixel values.\"\"\"\n",
        "    images = []\n",
        "    for filename in tqdm(os.listdir(folder_path)):\n",
        "        if filename.endswith(('.jpg', '.jpeg', '.png')):\n",
        "            img_path = os.path.join(folder_path, filename)\n",
        "            try:\n",
        "                img = Image.open(img_path).convert(\"RGB\").resize((IMG_WIDTH, IMG_HEIGHT))\n",
        "                # Convert to float32 explicitly\n",
        "                img_array = np.array(img, dtype=np.float32) / 127.5 - 1.0\n",
        "                images.append(img_array)\n",
        "            except Exception as e:\n",
        "                print(f\"Error loading {img_path}: {e}\")\n",
        "    return np.array(images, dtype=np.float32)  # Ensure final array is float32\n",
        "\n",
        "def create_dataset(images, buffer_size=BUFFER_SIZE, batch_size=BATCH_SIZE):\n",
        "    \"\"\"Creates a tf.data.Dataset with proper preprocessing.\"\"\"\n",
        "    return (tf.data.Dataset.from_tensor_slices(images.astype('float32'))  # Ensure float32\n",
        "            .shuffle(buffer_size)\n",
        "            .batch(batch_size, drop_remainder=True)\n",
        "            .prefetch(tf.data.AUTOTUNE))\n",
        "\n",
        "@tf.function\n",
        "def train_step(generator, discriminator, images, generator_optimizer, discriminator_optimizer):\n",
        "    GRADIENT_PENALTY_WEIGHT = 10.0\n",
        "    batch_size = tf.shape(images)[0]\n",
        "    noise = tf.random.normal([batch_size, NOISE_DIM], dtype=tf.float32)  # Specify dtype\n",
        "\n",
        "    with tf.GradientTape(persistent=True) as tape:\n",
        "        # Generate images\n",
        "        generated_images = generator(noise, training=True)\n",
        "\n",
        "        # Get discriminator outputs\n",
        "        real_output = discriminator(images, training=True)\n",
        "        fake_output = discriminator(generated_images, training=True)\n",
        "\n",
        "        # Calculate losses\n",
        "        gen_loss = generator_loss(fake_output)\n",
        "        disc_loss = discriminator_loss(real_output, fake_output)\n",
        "\n",
        "        # Add gradient penalty\n",
        "        alpha = tf.random.uniform([batch_size, 1, 1, 1], 0.0, 1.0, dtype=tf.float32)  # Specify dtype\n",
        "        interpolated = tf.cast(alpha * images + (1 - alpha) * generated_images, tf.float32)  # Ensure float32\n",
        "\n",
        "        with tf.GradientTape() as gp_tape:\n",
        "            gp_tape.watch(interpolated)\n",
        "            interpolated_output = discriminator(interpolated, training=True)\n",
        "\n",
        "        grads = gp_tape.gradient(interpolated_output, interpolated)\n",
        "        grad_norms = tf.sqrt(tf.reduce_sum(tf.square(grads), axis=[1, 2, 3]))\n",
        "        gradient_penalty = GRADIENT_PENALTY_WEIGHT * tf.reduce_mean(tf.square(grad_norms - 1.0))\n",
        "\n",
        "        disc_loss += gradient_penalty\n",
        "\n",
        "    # Calculate and apply gradients\n",
        "    gen_gradients = tape.gradient(gen_loss, generator.trainable_variables)\n",
        "    disc_gradients = tape.gradient(disc_loss, discriminator.trainable_variables)\n",
        "\n",
        "    generator_optimizer.apply_gradients(zip(gen_gradients, generator.trainable_variables))\n",
        "    discriminator_optimizer.apply_gradients(zip(disc_gradients, discriminator.trainable_variables))\n",
        "\n",
        "    return gen_loss, disc_loss\n",
        "\n",
        "# Generator\n",
        "def make_generator_model():\n",
        "    model = tf.keras.Sequential([\n",
        "        # Start with a larger initial feature map (8x8)\n",
        "        tf.keras.layers.Dense(8*8*512, use_bias=False, input_shape=(NOISE_DIM,)),\n",
        "        tf.keras.layers.BatchNormalization(),\n",
        "        tf.keras.layers.ReLU(),  # Changed from LeakyReLU\n",
        "        tf.keras.layers.Reshape((8, 8, 512)),\n",
        "\n",
        "        # Upsample to 16x16\n",
        "        tf.keras.layers.Conv2DTranspose(256, (5, 5), strides=(2, 2), padding='same', use_bias=False),\n",
        "        tf.keras.layers.BatchNormalization(),\n",
        "        tf.keras.layers.ReLU(),\n",
        "\n",
        "        # Upsample to 32x32\n",
        "        tf.keras.layers.Conv2DTranspose(128, (5, 5), strides=(2, 2), padding='same', use_bias=False),\n",
        "        tf.keras.layers.BatchNormalization(),\n",
        "        tf.keras.layers.ReLU(),\n",
        "\n",
        "        # Upsample to 64x64\n",
        "        tf.keras.layers.Conv2DTranspose(64, (5, 5), strides=(2, 2), padding='same', use_bias=False),\n",
        "        tf.keras.layers.BatchNormalization(),\n",
        "        tf.keras.layers.ReLU(),\n",
        "\n",
        "        # Final layer with smaller kernel\n",
        "        tf.keras.layers.Conv2D(CHANNELS, (3, 3), padding='same', activation='tanh')\n",
        "    ])\n",
        "    return model\n",
        "\n",
        "def make_discriminator_model():\n",
        "    model = tf.keras.Sequential([\n",
        "        # 64x64 -> 32x32\n",
        "        tf.keras.layers.Conv2D(64, (5, 5), strides=(2, 2), padding='same',\n",
        "                              input_shape=[IMG_WIDTH, IMG_HEIGHT, CHANNELS]),\n",
        "        tf.keras.layers.LayerNormalization(),  # Changed from nothing\n",
        "        tf.keras.layers.LeakyReLU(alpha=0.2),\n",
        "        tf.keras.layers.Dropout(0.3),\n",
        "\n",
        "        # 32x32 -> 16x16\n",
        "        tf.keras.layers.Conv2D(128, (5, 5), strides=(2, 2), padding='same'),\n",
        "        tf.keras.layers.LayerNormalization(),\n",
        "        tf.keras.layers.LeakyReLU(alpha=0.2),\n",
        "        tf.keras.layers.Dropout(0.3),\n",
        "\n",
        "        # 16x16 -> 8x8\n",
        "        tf.keras.layers.Conv2D(256, (5, 5), strides=(2, 2), padding='same'),\n",
        "        tf.keras.layers.LayerNormalization(),\n",
        "        tf.keras.layers.LeakyReLU(alpha=0.2),\n",
        "        tf.keras.layers.Dropout(0.3),\n",
        "\n",
        "        # Classification\n",
        "        tf.keras.layers.Flatten(),\n",
        "        tf.keras.layers.Dense(1, use_bias=False)  # Removed bias to prevent mode collapse\n",
        "    ])\n",
        "    return model\n",
        "\n",
        "# Modified loss functions with label smoothing\n",
        "def discriminator_loss(real_output, fake_output):\n",
        "    # Label smoothing: use 0.9 instead of 1.0 for real samples\n",
        "    # Instantiate BinaryCrossentropy\n",
        "    cross_entropy = tf.keras.losses.BinaryCrossentropy(from_logits=True)\n",
        "    real_loss = cross_entropy(tf.ones_like(real_output) * 0.9, real_output)\n",
        "    fake_loss = cross_entropy(tf.zeros_like(fake_output), fake_output)\n",
        "    total_loss = real_loss + fake_loss\n",
        "    return total_loss\n",
        "\n",
        "def generator_loss(fake_output):\n",
        "    # Instantiate BinaryCrossentropy\n",
        "    cross_entropy = tf.keras.losses.BinaryCrossentropy(from_logits=True)\n",
        "    return cross_entropy(tf.ones_like(fake_output), fake_output)\n",
        "\n",
        "# Modified training step with gradient penalty\n",
        "@tf.function\n",
        "def train_step(generator, discriminator, images, generator_optimizer, discriminator_optimizer):\n",
        "    GRADIENT_PENALTY_WEIGHT = 10.0\n",
        "    batch_size = tf.shape(images)[0]\n",
        "    noise = tf.random.normal([batch_size, NOISE_DIM])\n",
        "\n",
        "    with tf.GradientTape(persistent=True) as tape:\n",
        "        # Generate images\n",
        "        generated_images = generator(noise, training=True)\n",
        "\n",
        "        # Get discriminator outputs\n",
        "        real_output = discriminator(images, training=True)\n",
        "        fake_output = discriminator(generated_images, training=True)\n",
        "\n",
        "        # Calculate losses\n",
        "        gen_loss = generator_loss(fake_output)\n",
        "        disc_loss = discriminator_loss(real_output, fake_output)\n",
        "\n",
        "        # Add gradient penalty\n",
        "        alpha = tf.random.uniform([batch_size, 1, 1, 1], 0.0, 1.0)\n",
        "        interpolated = alpha * images + (1 - alpha) * generated_images\n",
        "\n",
        "        with tf.GradientTape() as gp_tape:\n",
        "            gp_tape.watch(interpolated)\n",
        "            interpolated_output = discriminator(interpolated, training=True)\n",
        "\n",
        "        grads = gp_tape.gradient(interpolated_output, interpolated)\n",
        "        grad_norms = tf.sqrt(tf.reduce_sum(tf.square(grads), axis=[1, 2, 3]))\n",
        "        gradient_penalty = GRADIENT_PENALTY_WEIGHT * tf.reduce_mean(tf.square(grad_norms - 1.0))\n",
        "\n",
        "        disc_loss += gradient_penalty\n",
        "\n",
        "    # Calculate and apply gradients\n",
        "    gen_gradients = tape.gradient(gen_loss, generator.trainable_variables)\n",
        "    disc_gradients = tape.gradient(disc_loss, discriminator.trainable_variables)\n",
        "\n",
        "    generator_optimizer.apply_gradients(zip(gen_gradients, generator.trainable_variables))\n",
        "    discriminator_optimizer.apply_gradients(zip(disc_gradients, discriminator.trainable_variables))\n",
        "\n",
        "    return gen_loss, disc_loss\n",
        "\n",
        "def save_generator(generator, filepath='generator_model'):\n",
        "    \"\"\"Save the generator model to the specified path\"\"\"\n",
        "    try:\n",
        "        tf.keras.models.save_model(generator, filepath) # use standard Keras saving\n",
        "        print(f\"Model successfully saved to {filepath}\")\n",
        "    except Exception as e:\n",
        "        print(f\"Error saving model: {e}\")\n",
        "\n",
        "def train(dataset, epochs):\n",
        "    # Initialize models and optimizers with lower learning rates\n",
        "    generator = make_generator_model()\n",
        "    discriminator = make_discriminator_model()\n",
        "\n",
        "    generator_optimizer = tf.keras.optimizers.Adam(learning_rate=1e-4, beta_1=0.5, beta_2=0.9)\n",
        "    discriminator_optimizer = tf.keras.optimizers.Adam(learning_rate=1e-4, beta_1=0.5, beta_2=0.9)\n",
        "\n",
        "    # Training history\n",
        "    history = {'gen_loss': [], 'disc_loss': []}\n",
        "\n",
        "    for epoch in range(epochs):\n",
        "        print(f'Epoch {epoch + 1}/{epochs}')\n",
        "\n",
        "        # Training loop\n",
        "        for batch in tqdm(dataset):\n",
        "            gen_loss, disc_loss = train_step(\n",
        "                generator, discriminator, batch,\n",
        "                generator_optimizer, discriminator_optimizer\n",
        "            )\n",
        "\n",
        "        # Save model every 50 epochs\n",
        "        if (epoch + 1) % 50 == 0:\n",
        "            save_generator(generator, f'generator_model_epoch_{epoch + 1}')\n",
        "\n",
        "        # Print epoch summary\n",
        "        print(f'Generator Loss: {gen_loss:.4f}')\n",
        "        print(f'Discriminator Loss: {disc_loss:.4f}')\n",
        "\n",
        "    # Save final model\n",
        "    save_generator(generator, 'generator_model_final')\n",
        "    return generator, discriminator, history\n",
        "\n",
        "def visualize_and_save(generator, epoch, num_examples=4):\n",
        "    \"\"\"Generate and save sample images during training.\"\"\"\n",
        "    noise = tf.random.normal([num_examples, NOISE_DIM])\n",
        "    generated_images = generator(noise, training=False)\n",
        "\n",
        "    fig = plt.figure(figsize=(4, 4))\n",
        "    for i in range(num_examples):\n",
        "        plt.subplot(4, 4, i + 1)\n",
        "        plt.imshow((generated_images[i] * 0.5 + 0.5))\n",
        "        plt.axis('off')\n",
        "\n",
        "    plt.savefig(f'gan_epoch_{epoch}.png')\n",
        "    plt.close()\n",
        "\n",
        "# Main execution\n",
        "if __name__ == \"__main__\":\n",
        "    # Load and prepare data\n",
        "    image_folder = '/content/datasets/oslomini/images/images'\n",
        "    if not os.path.exists(image_folder):\n",
        "        raise ValueError(f\"Image folder '{image_folder}' not found\")\n",
        "\n",
        "    images = load_images(image_folder)\n",
        "    if len(images) == 0:\n",
        "        raise ValueError(f\"No valid images found in '{image_folder}'\")\n",
        "\n",
        "    # Create dataset\n",
        "    dataset = create_dataset(images)\n",
        "\n",
        "    # Train the model\n",
        "    generator, discriminator, history = train(dataset, EPOCHS)\n",
        "\n",
        "    # Final visualization\n",
        "    visualize_and_save(generator, EPOCHS)"
      ],
      "metadata": {
        "colab": {
          "base_uri": "https://localhost:8080/"
        },
        "id": "6OUutam8WhdQ",
        "outputId": "304a7702-1c9e-48d4-8619-9acdc6ca7c44"
      },
      "execution_count": null,
      "outputs": [
        {
          "output_type": "stream",
          "name": "stderr",
          "text": [
            "100%|██████████| 1000/1000 [00:05<00:00, 183.73it/s]\n",
            "/usr/local/lib/python3.10/dist-packages/keras/src/layers/core/dense.py:87: UserWarning: Do not pass an `input_shape`/`input_dim` argument to a layer. When using Sequential models, prefer using an `Input(shape)` object as the first layer in the model instead.\n",
            "  super().__init__(activity_regularizer=activity_regularizer, **kwargs)\n",
            "/usr/local/lib/python3.10/dist-packages/keras/src/layers/convolutional/base_conv.py:107: UserWarning: Do not pass an `input_shape`/`input_dim` argument to a layer. When using Sequential models, prefer using an `Input(shape)` object as the first layer in the model instead.\n",
            "  super().__init__(activity_regularizer=activity_regularizer, **kwargs)\n",
            "/usr/local/lib/python3.10/dist-packages/keras/src/layers/activations/leaky_relu.py:41: UserWarning: Argument `alpha` is deprecated. Use `negative_slope` instead.\n",
            "  warnings.warn(\n"
          ]
        },
        {
          "output_type": "stream",
          "name": "stdout",
          "text": [
            "Epoch 1/500\n"
          ]
        },
        {
          "output_type": "stream",
          "name": "stderr",
          "text": [
            "100%|██████████| 3/3 [00:10<00:00,  3.38s/it]\n"
          ]
        },
        {
          "output_type": "stream",
          "name": "stdout",
          "text": [
            "Generator Loss: 0.0774\n",
            "Discriminator Loss: 26.0311\n",
            "Epoch 2/500\n"
          ]
        },
        {
          "output_type": "stream",
          "name": "stderr",
          "text": [
            "100%|██████████| 3/3 [00:02<00:00,  1.36it/s]\n"
          ]
        },
        {
          "output_type": "stream",
          "name": "stdout",
          "text": [
            "Generator Loss: 0.2205\n",
            "Discriminator Loss: 9.4193\n",
            "Epoch 3/500\n"
          ]
        },
        {
          "output_type": "stream",
          "name": "stderr",
          "text": [
            "100%|██████████| 3/3 [00:02<00:00,  1.34it/s]\n"
          ]
        },
        {
          "output_type": "stream",
          "name": "stdout",
          "text": [
            "Generator Loss: 0.4403\n",
            "Discriminator Loss: 5.9842\n",
            "Epoch 4/500\n"
          ]
        },
        {
          "output_type": "stream",
          "name": "stderr",
          "text": [
            "100%|██████████| 3/3 [00:02<00:00,  1.34it/s]\n"
          ]
        },
        {
          "output_type": "stream",
          "name": "stdout",
          "text": [
            "Generator Loss: 0.5084\n",
            "Discriminator Loss: 4.2243\n",
            "Epoch 5/500\n"
          ]
        },
        {
          "output_type": "stream",
          "name": "stderr",
          "text": [
            "100%|██████████| 3/3 [00:02<00:00,  1.32it/s]\n"
          ]
        },
        {
          "output_type": "stream",
          "name": "stdout",
          "text": [
            "Generator Loss: 0.5672\n",
            "Discriminator Loss: 3.0796\n",
            "Epoch 6/500\n"
          ]
        },
        {
          "output_type": "stream",
          "name": "stderr",
          "text": [
            "100%|██████████| 3/3 [00:02<00:00,  1.31it/s]\n"
          ]
        },
        {
          "output_type": "stream",
          "name": "stdout",
          "text": [
            "Generator Loss: 0.5975\n",
            "Discriminator Loss: 2.9497\n",
            "Epoch 7/500\n"
          ]
        },
        {
          "output_type": "stream",
          "name": "stderr",
          "text": [
            "100%|██████████| 3/3 [00:02<00:00,  1.30it/s]\n"
          ]
        },
        {
          "output_type": "stream",
          "name": "stdout",
          "text": [
            "Generator Loss: 0.6386\n",
            "Discriminator Loss: 2.6431\n",
            "Epoch 8/500\n"
          ]
        },
        {
          "output_type": "stream",
          "name": "stderr",
          "text": [
            "100%|██████████| 3/3 [00:02<00:00,  1.32it/s]\n"
          ]
        },
        {
          "output_type": "stream",
          "name": "stdout",
          "text": [
            "Generator Loss: 0.6772\n",
            "Discriminator Loss: 2.3951\n",
            "Epoch 9/500\n"
          ]
        },
        {
          "output_type": "stream",
          "name": "stderr",
          "text": [
            "100%|██████████| 3/3 [00:02<00:00,  1.30it/s]\n"
          ]
        },
        {
          "output_type": "stream",
          "name": "stdout",
          "text": [
            "Generator Loss: 0.7745\n",
            "Discriminator Loss: 2.2702\n",
            "Epoch 10/500\n"
          ]
        },
        {
          "output_type": "stream",
          "name": "stderr",
          "text": [
            "100%|██████████| 3/3 [00:02<00:00,  1.31it/s]\n"
          ]
        },
        {
          "output_type": "stream",
          "name": "stdout",
          "text": [
            "Generator Loss: 0.7691\n",
            "Discriminator Loss: 2.1982\n",
            "Epoch 11/500\n"
          ]
        },
        {
          "output_type": "stream",
          "name": "stderr",
          "text": [
            "100%|██████████| 3/3 [00:02<00:00,  1.32it/s]\n"
          ]
        },
        {
          "output_type": "stream",
          "name": "stdout",
          "text": [
            "Generator Loss: 0.7777\n",
            "Discriminator Loss: 2.3369\n",
            "Epoch 12/500\n"
          ]
        },
        {
          "output_type": "stream",
          "name": "stderr",
          "text": [
            "100%|██████████| 3/3 [00:02<00:00,  1.34it/s]\n"
          ]
        },
        {
          "output_type": "stream",
          "name": "stdout",
          "text": [
            "Generator Loss: 0.8769\n",
            "Discriminator Loss: 2.1241\n",
            "Epoch 13/500\n"
          ]
        },
        {
          "output_type": "stream",
          "name": "stderr",
          "text": [
            "100%|██████████| 3/3 [00:02<00:00,  1.34it/s]\n"
          ]
        },
        {
          "output_type": "stream",
          "name": "stdout",
          "text": [
            "Generator Loss: 0.9513\n",
            "Discriminator Loss: 1.8832\n",
            "Epoch 14/500\n"
          ]
        },
        {
          "output_type": "stream",
          "name": "stderr",
          "text": [
            "100%|██████████| 3/3 [00:02<00:00,  1.33it/s]\n"
          ]
        },
        {
          "output_type": "stream",
          "name": "stdout",
          "text": [
            "Generator Loss: 1.0224\n",
            "Discriminator Loss: 1.7797\n",
            "Epoch 15/500\n"
          ]
        },
        {
          "output_type": "stream",
          "name": "stderr",
          "text": [
            "100%|██████████| 3/3 [00:02<00:00,  1.35it/s]\n"
          ]
        },
        {
          "output_type": "stream",
          "name": "stdout",
          "text": [
            "Generator Loss: 1.0993\n",
            "Discriminator Loss: 1.8837\n",
            "Epoch 16/500\n"
          ]
        },
        {
          "output_type": "stream",
          "name": "stderr",
          "text": [
            "100%|██████████| 3/3 [00:02<00:00,  1.36it/s]\n"
          ]
        },
        {
          "output_type": "stream",
          "name": "stdout",
          "text": [
            "Generator Loss: 1.2604\n",
            "Discriminator Loss: 1.7346\n",
            "Epoch 17/500\n"
          ]
        },
        {
          "output_type": "stream",
          "name": "stderr",
          "text": [
            "100%|██████████| 3/3 [00:02<00:00,  1.34it/s]\n"
          ]
        },
        {
          "output_type": "stream",
          "name": "stdout",
          "text": [
            "Generator Loss: 1.3977\n",
            "Discriminator Loss: 1.5952\n",
            "Epoch 18/500\n"
          ]
        },
        {
          "output_type": "stream",
          "name": "stderr",
          "text": [
            "100%|██████████| 3/3 [00:02<00:00,  1.35it/s]\n"
          ]
        },
        {
          "output_type": "stream",
          "name": "stdout",
          "text": [
            "Generator Loss: 1.1803\n",
            "Discriminator Loss: 1.9433\n",
            "Epoch 19/500\n"
          ]
        },
        {
          "output_type": "stream",
          "name": "stderr",
          "text": [
            "100%|██████████| 3/3 [00:02<00:00,  1.36it/s]\n"
          ]
        },
        {
          "output_type": "stream",
          "name": "stdout",
          "text": [
            "Generator Loss: 1.2034\n",
            "Discriminator Loss: 1.8719\n",
            "Epoch 20/500\n"
          ]
        },
        {
          "output_type": "stream",
          "name": "stderr",
          "text": [
            "100%|██████████| 3/3 [00:02<00:00,  1.36it/s]\n"
          ]
        },
        {
          "output_type": "stream",
          "name": "stdout",
          "text": [
            "Generator Loss: 1.5336\n",
            "Discriminator Loss: 1.7284\n",
            "Epoch 21/500\n"
          ]
        },
        {
          "output_type": "stream",
          "name": "stderr",
          "text": [
            "100%|██████████| 3/3 [00:02<00:00,  1.37it/s]\n"
          ]
        },
        {
          "output_type": "stream",
          "name": "stdout",
          "text": [
            "Generator Loss: 1.6244\n",
            "Discriminator Loss: 1.4925\n",
            "Epoch 22/500\n"
          ]
        },
        {
          "output_type": "stream",
          "name": "stderr",
          "text": [
            "100%|██████████| 3/3 [00:02<00:00,  1.37it/s]\n"
          ]
        },
        {
          "output_type": "stream",
          "name": "stdout",
          "text": [
            "Generator Loss: 1.6384\n",
            "Discriminator Loss: 1.5619\n",
            "Epoch 23/500\n"
          ]
        },
        {
          "output_type": "stream",
          "name": "stderr",
          "text": [
            "100%|██████████| 3/3 [00:02<00:00,  1.36it/s]\n"
          ]
        },
        {
          "output_type": "stream",
          "name": "stdout",
          "text": [
            "Generator Loss: 1.1476\n",
            "Discriminator Loss: 1.5940\n",
            "Epoch 24/500\n"
          ]
        },
        {
          "output_type": "stream",
          "name": "stderr",
          "text": [
            "100%|██████████| 3/3 [00:02<00:00,  1.37it/s]\n"
          ]
        },
        {
          "output_type": "stream",
          "name": "stdout",
          "text": [
            "Generator Loss: 1.9268\n",
            "Discriminator Loss: 1.3040\n",
            "Epoch 25/500\n"
          ]
        },
        {
          "output_type": "stream",
          "name": "stderr",
          "text": [
            "100%|██████████| 3/3 [00:02<00:00,  1.18it/s]\n"
          ]
        },
        {
          "output_type": "stream",
          "name": "stdout",
          "text": [
            "Generator Loss: 2.6882\n",
            "Discriminator Loss: 1.0066\n",
            "Epoch 26/500\n"
          ]
        },
        {
          "output_type": "stream",
          "name": "stderr",
          "text": [
            "100%|██████████| 3/3 [00:02<00:00,  1.34it/s]\n"
          ]
        },
        {
          "output_type": "stream",
          "name": "stdout",
          "text": [
            "Generator Loss: 2.4230\n",
            "Discriminator Loss: 1.0875\n",
            "Epoch 27/500\n"
          ]
        },
        {
          "output_type": "stream",
          "name": "stderr",
          "text": [
            "100%|██████████| 3/3 [00:02<00:00,  1.39it/s]\n"
          ]
        },
        {
          "output_type": "stream",
          "name": "stdout",
          "text": [
            "Generator Loss: 2.5095\n",
            "Discriminator Loss: 1.0148\n",
            "Epoch 28/500\n"
          ]
        },
        {
          "output_type": "stream",
          "name": "stderr",
          "text": [
            "100%|██████████| 3/3 [00:02<00:00,  1.36it/s]\n"
          ]
        },
        {
          "output_type": "stream",
          "name": "stdout",
          "text": [
            "Generator Loss: 2.4155\n",
            "Discriminator Loss: 1.1344\n",
            "Epoch 29/500\n"
          ]
        },
        {
          "output_type": "stream",
          "name": "stderr",
          "text": [
            "100%|██████████| 3/3 [00:02<00:00,  1.37it/s]\n"
          ]
        },
        {
          "output_type": "stream",
          "name": "stdout",
          "text": [
            "Generator Loss: 2.7007\n",
            "Discriminator Loss: 0.9733\n",
            "Epoch 30/500\n"
          ]
        },
        {
          "output_type": "stream",
          "name": "stderr",
          "text": [
            "100%|██████████| 3/3 [00:02<00:00,  1.38it/s]\n"
          ]
        },
        {
          "output_type": "stream",
          "name": "stdout",
          "text": [
            "Generator Loss: 1.9764\n",
            "Discriminator Loss: 1.2631\n",
            "Epoch 31/500\n"
          ]
        },
        {
          "output_type": "stream",
          "name": "stderr",
          "text": [
            "100%|██████████| 3/3 [00:02<00:00,  1.36it/s]\n"
          ]
        },
        {
          "output_type": "stream",
          "name": "stdout",
          "text": [
            "Generator Loss: 2.2626\n",
            "Discriminator Loss: 1.1099\n",
            "Epoch 32/500\n"
          ]
        },
        {
          "output_type": "stream",
          "name": "stderr",
          "text": [
            "100%|██████████| 3/3 [00:02<00:00,  1.35it/s]\n"
          ]
        },
        {
          "output_type": "stream",
          "name": "stdout",
          "text": [
            "Generator Loss: 2.3351\n",
            "Discriminator Loss: 1.4829\n",
            "Epoch 33/500\n"
          ]
        },
        {
          "output_type": "stream",
          "name": "stderr",
          "text": [
            "100%|██████████| 3/3 [00:02<00:00,  1.18it/s]\n"
          ]
        },
        {
          "output_type": "stream",
          "name": "stdout",
          "text": [
            "Generator Loss: 1.9805\n",
            "Discriminator Loss: 1.6019\n",
            "Epoch 34/500\n"
          ]
        },
        {
          "output_type": "stream",
          "name": "stderr",
          "text": [
            "100%|██████████| 3/3 [00:02<00:00,  1.35it/s]\n"
          ]
        },
        {
          "output_type": "stream",
          "name": "stdout",
          "text": [
            "Generator Loss: 2.2676\n",
            "Discriminator Loss: 1.3430\n",
            "Epoch 35/500\n"
          ]
        },
        {
          "output_type": "stream",
          "name": "stderr",
          "text": [
            "100%|██████████| 3/3 [00:02<00:00,  1.34it/s]\n"
          ]
        },
        {
          "output_type": "stream",
          "name": "stdout",
          "text": [
            "Generator Loss: 2.6203\n",
            "Discriminator Loss: 1.5214\n",
            "Epoch 36/500\n"
          ]
        },
        {
          "output_type": "stream",
          "name": "stderr",
          "text": [
            "100%|██████████| 3/3 [00:02<00:00,  1.35it/s]\n"
          ]
        },
        {
          "output_type": "stream",
          "name": "stdout",
          "text": [
            "Generator Loss: 2.4345\n",
            "Discriminator Loss: 1.3462\n",
            "Epoch 37/500\n"
          ]
        },
        {
          "output_type": "stream",
          "name": "stderr",
          "text": [
            "100%|██████████| 3/3 [00:02<00:00,  1.34it/s]\n"
          ]
        },
        {
          "output_type": "stream",
          "name": "stdout",
          "text": [
            "Generator Loss: 2.5491\n",
            "Discriminator Loss: 1.6499\n",
            "Epoch 38/500\n"
          ]
        },
        {
          "output_type": "stream",
          "name": "stderr",
          "text": [
            "100%|██████████| 3/3 [00:02<00:00,  1.35it/s]\n"
          ]
        },
        {
          "output_type": "stream",
          "name": "stdout",
          "text": [
            "Generator Loss: 2.1711\n",
            "Discriminator Loss: 1.8480\n",
            "Epoch 39/500\n"
          ]
        },
        {
          "output_type": "stream",
          "name": "stderr",
          "text": [
            "100%|██████████| 3/3 [00:02<00:00,  1.34it/s]\n"
          ]
        },
        {
          "output_type": "stream",
          "name": "stdout",
          "text": [
            "Generator Loss: 1.2282\n",
            "Discriminator Loss: 2.3123\n",
            "Epoch 40/500\n"
          ]
        },
        {
          "output_type": "stream",
          "name": "stderr",
          "text": [
            "100%|██████████| 3/3 [00:02<00:00,  1.34it/s]\n"
          ]
        },
        {
          "output_type": "stream",
          "name": "stdout",
          "text": [
            "Generator Loss: 1.2180\n",
            "Discriminator Loss: 2.3747\n",
            "Epoch 41/500\n"
          ]
        },
        {
          "output_type": "stream",
          "name": "stderr",
          "text": [
            "100%|██████████| 3/3 [00:02<00:00,  1.33it/s]\n"
          ]
        },
        {
          "output_type": "stream",
          "name": "stdout",
          "text": [
            "Generator Loss: 1.1782\n",
            "Discriminator Loss: 2.5583\n",
            "Epoch 42/500\n"
          ]
        },
        {
          "output_type": "stream",
          "name": "stderr",
          "text": [
            "100%|██████████| 3/3 [00:02<00:00,  1.33it/s]\n"
          ]
        },
        {
          "output_type": "stream",
          "name": "stdout",
          "text": [
            "Generator Loss: 1.2373\n",
            "Discriminator Loss: 2.6825\n",
            "Epoch 43/500\n"
          ]
        },
        {
          "output_type": "stream",
          "name": "stderr",
          "text": [
            "100%|██████████| 3/3 [00:02<00:00,  1.33it/s]\n"
          ]
        },
        {
          "output_type": "stream",
          "name": "stdout",
          "text": [
            "Generator Loss: 1.2768\n",
            "Discriminator Loss: 2.8057\n",
            "Epoch 44/500\n"
          ]
        },
        {
          "output_type": "stream",
          "name": "stderr",
          "text": [
            "100%|██████████| 3/3 [00:02<00:00,  1.35it/s]\n"
          ]
        },
        {
          "output_type": "stream",
          "name": "stdout",
          "text": [
            "Generator Loss: 0.7223\n",
            "Discriminator Loss: 2.4849\n",
            "Epoch 45/500\n"
          ]
        },
        {
          "output_type": "stream",
          "name": "stderr",
          "text": [
            "100%|██████████| 3/3 [00:02<00:00,  1.34it/s]\n"
          ]
        },
        {
          "output_type": "stream",
          "name": "stdout",
          "text": [
            "Generator Loss: 0.8259\n",
            "Discriminator Loss: 2.2803\n",
            "Epoch 46/500\n"
          ]
        },
        {
          "output_type": "stream",
          "name": "stderr",
          "text": [
            "100%|██████████| 3/3 [00:02<00:00,  1.33it/s]\n"
          ]
        },
        {
          "output_type": "stream",
          "name": "stdout",
          "text": [
            "Generator Loss: 0.9672\n",
            "Discriminator Loss: 2.2630\n",
            "Epoch 47/500\n"
          ]
        },
        {
          "output_type": "stream",
          "name": "stderr",
          "text": [
            "100%|██████████| 3/3 [00:02<00:00,  1.33it/s]\n"
          ]
        },
        {
          "output_type": "stream",
          "name": "stdout",
          "text": [
            "Generator Loss: 1.1550\n",
            "Discriminator Loss: 2.0123\n",
            "Epoch 48/500\n"
          ]
        },
        {
          "output_type": "stream",
          "name": "stderr",
          "text": [
            "100%|██████████| 3/3 [00:02<00:00,  1.34it/s]\n"
          ]
        },
        {
          "output_type": "stream",
          "name": "stdout",
          "text": [
            "Generator Loss: 1.1829\n",
            "Discriminator Loss: 2.5660\n",
            "Epoch 49/500\n"
          ]
        },
        {
          "output_type": "stream",
          "name": "stderr",
          "text": [
            "100%|██████████| 3/3 [00:02<00:00,  1.35it/s]\n"
          ]
        },
        {
          "output_type": "stream",
          "name": "stdout",
          "text": [
            "Generator Loss: 0.9432\n",
            "Discriminator Loss: 2.5133\n",
            "Epoch 50/500\n"
          ]
        },
        {
          "output_type": "stream",
          "name": "stderr",
          "text": [
            "100%|██████████| 3/3 [00:02<00:00,  1.36it/s]\n"
          ]
        },
        {
          "output_type": "stream",
          "name": "stdout",
          "text": [
            "Error saving model: Invalid filepath extension for saving. Please add either a `.keras` extension for the native Keras format (recommended) or a `.h5` extension. Use `model.export(filepath)` if you want to export a SavedModel for use with TFLite/TFServing/etc. Received: filepath=generator_model_epoch_50.\n",
            "Generator Loss: 1.1659\n",
            "Discriminator Loss: 2.1570\n",
            "Epoch 51/500\n"
          ]
        },
        {
          "output_type": "stream",
          "name": "stderr",
          "text": [
            "100%|██████████| 3/3 [00:02<00:00,  1.35it/s]\n"
          ]
        },
        {
          "output_type": "stream",
          "name": "stdout",
          "text": [
            "Generator Loss: 1.1715\n",
            "Discriminator Loss: 2.3389\n",
            "Epoch 52/500\n"
          ]
        },
        {
          "output_type": "stream",
          "name": "stderr",
          "text": [
            "100%|██████████| 3/3 [00:02<00:00,  1.37it/s]\n"
          ]
        },
        {
          "output_type": "stream",
          "name": "stdout",
          "text": [
            "Generator Loss: 0.9324\n",
            "Discriminator Loss: 2.6324\n",
            "Epoch 53/500\n"
          ]
        },
        {
          "output_type": "stream",
          "name": "stderr",
          "text": [
            "100%|██████████| 3/3 [00:02<00:00,  1.35it/s]\n"
          ]
        },
        {
          "output_type": "stream",
          "name": "stdout",
          "text": [
            "Generator Loss: 1.0671\n",
            "Discriminator Loss: 2.1830\n",
            "Epoch 54/500\n"
          ]
        },
        {
          "output_type": "stream",
          "name": "stderr",
          "text": [
            "100%|██████████| 3/3 [00:02<00:00,  1.18it/s]\n"
          ]
        },
        {
          "output_type": "stream",
          "name": "stdout",
          "text": [
            "Generator Loss: 0.9525\n",
            "Discriminator Loss: 2.1615\n",
            "Epoch 55/500\n"
          ]
        },
        {
          "output_type": "stream",
          "name": "stderr",
          "text": [
            "100%|██████████| 3/3 [00:02<00:00,  1.34it/s]\n"
          ]
        },
        {
          "output_type": "stream",
          "name": "stdout",
          "text": [
            "Generator Loss: 1.1367\n",
            "Discriminator Loss: 1.8576\n",
            "Epoch 56/500\n"
          ]
        },
        {
          "output_type": "stream",
          "name": "stderr",
          "text": [
            "100%|██████████| 3/3 [00:02<00:00,  1.35it/s]\n"
          ]
        },
        {
          "output_type": "stream",
          "name": "stdout",
          "text": [
            "Generator Loss: 1.3667\n",
            "Discriminator Loss: 1.7254\n",
            "Epoch 57/500\n"
          ]
        },
        {
          "output_type": "stream",
          "name": "stderr",
          "text": [
            "100%|██████████| 3/3 [00:02<00:00,  1.35it/s]\n"
          ]
        },
        {
          "output_type": "stream",
          "name": "stdout",
          "text": [
            "Generator Loss: 1.6136\n",
            "Discriminator Loss: 1.6133\n",
            "Epoch 58/500\n"
          ]
        },
        {
          "output_type": "stream",
          "name": "stderr",
          "text": [
            "100%|██████████| 3/3 [00:02<00:00,  1.35it/s]\n"
          ]
        },
        {
          "output_type": "stream",
          "name": "stdout",
          "text": [
            "Generator Loss: 1.1989\n",
            "Discriminator Loss: 2.0275\n",
            "Epoch 59/500\n"
          ]
        },
        {
          "output_type": "stream",
          "name": "stderr",
          "text": [
            "100%|██████████| 3/3 [00:02<00:00,  1.36it/s]\n"
          ]
        },
        {
          "output_type": "stream",
          "name": "stdout",
          "text": [
            "Generator Loss: 1.1913\n",
            "Discriminator Loss: 2.6816\n",
            "Epoch 60/500\n"
          ]
        },
        {
          "output_type": "stream",
          "name": "stderr",
          "text": [
            "100%|██████████| 3/3 [00:02<00:00,  1.35it/s]\n"
          ]
        },
        {
          "output_type": "stream",
          "name": "stdout",
          "text": [
            "Generator Loss: 1.0127\n",
            "Discriminator Loss: 2.3520\n",
            "Epoch 61/500\n"
          ]
        },
        {
          "output_type": "stream",
          "name": "stderr",
          "text": [
            "100%|██████████| 3/3 [00:02<00:00,  1.35it/s]\n"
          ]
        },
        {
          "output_type": "stream",
          "name": "stdout",
          "text": [
            "Generator Loss: 1.1073\n",
            "Discriminator Loss: 2.1349\n",
            "Epoch 62/500\n"
          ]
        },
        {
          "output_type": "stream",
          "name": "stderr",
          "text": [
            "100%|██████████| 3/3 [00:02<00:00,  1.36it/s]\n"
          ]
        },
        {
          "output_type": "stream",
          "name": "stdout",
          "text": [
            "Generator Loss: 0.8565\n",
            "Discriminator Loss: 2.2912\n",
            "Epoch 63/500\n"
          ]
        },
        {
          "output_type": "stream",
          "name": "stderr",
          "text": [
            "100%|██████████| 3/3 [00:02<00:00,  1.35it/s]\n"
          ]
        },
        {
          "output_type": "stream",
          "name": "stdout",
          "text": [
            "Generator Loss: 0.8885\n",
            "Discriminator Loss: 2.2622\n",
            "Epoch 64/500\n"
          ]
        },
        {
          "output_type": "stream",
          "name": "stderr",
          "text": [
            "100%|██████████| 3/3 [00:02<00:00,  1.35it/s]\n"
          ]
        },
        {
          "output_type": "stream",
          "name": "stdout",
          "text": [
            "Generator Loss: 0.8803\n",
            "Discriminator Loss: 2.0152\n",
            "Epoch 65/500\n"
          ]
        },
        {
          "output_type": "stream",
          "name": "stderr",
          "text": [
            "100%|██████████| 3/3 [00:02<00:00,  1.35it/s]\n"
          ]
        },
        {
          "output_type": "stream",
          "name": "stdout",
          "text": [
            "Generator Loss: 1.4312\n",
            "Discriminator Loss: 2.0949\n",
            "Epoch 66/500\n"
          ]
        },
        {
          "output_type": "stream",
          "name": "stderr",
          "text": [
            "100%|██████████| 3/3 [00:02<00:00,  1.37it/s]\n"
          ]
        },
        {
          "output_type": "stream",
          "name": "stdout",
          "text": [
            "Generator Loss: 1.1937\n",
            "Discriminator Loss: 1.9129\n",
            "Epoch 67/500\n"
          ]
        },
        {
          "output_type": "stream",
          "name": "stderr",
          "text": [
            "100%|██████████| 3/3 [00:02<00:00,  1.18it/s]\n"
          ]
        },
        {
          "output_type": "stream",
          "name": "stdout",
          "text": [
            "Generator Loss: 1.1855\n",
            "Discriminator Loss: 1.8253\n",
            "Epoch 68/500\n"
          ]
        },
        {
          "output_type": "stream",
          "name": "stderr",
          "text": [
            "100%|██████████| 3/3 [00:02<00:00,  1.36it/s]\n"
          ]
        },
        {
          "output_type": "stream",
          "name": "stdout",
          "text": [
            "Generator Loss: 1.1754\n",
            "Discriminator Loss: 1.9036\n",
            "Epoch 69/500\n"
          ]
        },
        {
          "output_type": "stream",
          "name": "stderr",
          "text": [
            "100%|██████████| 3/3 [00:02<00:00,  1.35it/s]\n"
          ]
        },
        {
          "output_type": "stream",
          "name": "stdout",
          "text": [
            "Generator Loss: 0.8899\n",
            "Discriminator Loss: 2.1397\n",
            "Epoch 70/500\n"
          ]
        },
        {
          "output_type": "stream",
          "name": "stderr",
          "text": [
            "100%|██████████| 3/3 [00:02<00:00,  1.35it/s]\n"
          ]
        },
        {
          "output_type": "stream",
          "name": "stdout",
          "text": [
            "Generator Loss: 1.1451\n",
            "Discriminator Loss: 2.0890\n",
            "Epoch 71/500\n"
          ]
        },
        {
          "output_type": "stream",
          "name": "stderr",
          "text": [
            "100%|██████████| 3/3 [00:02<00:00,  1.35it/s]\n"
          ]
        },
        {
          "output_type": "stream",
          "name": "stdout",
          "text": [
            "Generator Loss: 0.6217\n",
            "Discriminator Loss: 2.2609\n",
            "Epoch 72/500\n"
          ]
        },
        {
          "output_type": "stream",
          "name": "stderr",
          "text": [
            "100%|██████████| 3/3 [00:02<00:00,  1.36it/s]\n"
          ]
        },
        {
          "output_type": "stream",
          "name": "stdout",
          "text": [
            "Generator Loss: 0.9023\n",
            "Discriminator Loss: 2.0639\n",
            "Epoch 73/500\n"
          ]
        },
        {
          "output_type": "stream",
          "name": "stderr",
          "text": [
            "100%|██████████| 3/3 [00:02<00:00,  1.35it/s]\n"
          ]
        },
        {
          "output_type": "stream",
          "name": "stdout",
          "text": [
            "Generator Loss: 0.9192\n",
            "Discriminator Loss: 1.8493\n",
            "Epoch 74/500\n"
          ]
        },
        {
          "output_type": "stream",
          "name": "stderr",
          "text": [
            "100%|██████████| 3/3 [00:02<00:00,  1.37it/s]\n"
          ]
        },
        {
          "output_type": "stream",
          "name": "stdout",
          "text": [
            "Generator Loss: 0.9803\n",
            "Discriminator Loss: 1.7713\n",
            "Epoch 75/500\n"
          ]
        },
        {
          "output_type": "stream",
          "name": "stderr",
          "text": [
            "100%|██████████| 3/3 [00:02<00:00,  1.36it/s]\n"
          ]
        },
        {
          "output_type": "stream",
          "name": "stdout",
          "text": [
            "Generator Loss: 1.1191\n",
            "Discriminator Loss: 1.9367\n",
            "Epoch 76/500\n"
          ]
        },
        {
          "output_type": "stream",
          "name": "stderr",
          "text": [
            "100%|██████████| 3/3 [00:02<00:00,  1.34it/s]\n"
          ]
        },
        {
          "output_type": "stream",
          "name": "stdout",
          "text": [
            "Generator Loss: 0.8091\n",
            "Discriminator Loss: 1.9509\n",
            "Epoch 77/500\n"
          ]
        },
        {
          "output_type": "stream",
          "name": "stderr",
          "text": [
            "100%|██████████| 3/3 [00:02<00:00,  1.35it/s]\n"
          ]
        },
        {
          "output_type": "stream",
          "name": "stdout",
          "text": [
            "Generator Loss: 0.9652\n",
            "Discriminator Loss: 1.9647\n",
            "Epoch 78/500\n"
          ]
        },
        {
          "output_type": "stream",
          "name": "stderr",
          "text": [
            "100%|██████████| 3/3 [00:02<00:00,  1.33it/s]\n"
          ]
        },
        {
          "output_type": "stream",
          "name": "stdout",
          "text": [
            "Generator Loss: 0.9524\n",
            "Discriminator Loss: 1.7959\n",
            "Epoch 79/500\n"
          ]
        },
        {
          "output_type": "stream",
          "name": "stderr",
          "text": [
            "100%|██████████| 3/3 [00:02<00:00,  1.35it/s]\n"
          ]
        },
        {
          "output_type": "stream",
          "name": "stdout",
          "text": [
            "Generator Loss: 1.2033\n",
            "Discriminator Loss: 1.7387\n",
            "Epoch 80/500\n"
          ]
        },
        {
          "output_type": "stream",
          "name": "stderr",
          "text": [
            "100%|██████████| 3/3 [00:02<00:00,  1.35it/s]\n"
          ]
        },
        {
          "output_type": "stream",
          "name": "stdout",
          "text": [
            "Generator Loss: 1.0414\n",
            "Discriminator Loss: 1.9327\n",
            "Epoch 81/500\n"
          ]
        },
        {
          "output_type": "stream",
          "name": "stderr",
          "text": [
            "100%|██████████| 3/3 [00:02<00:00,  1.36it/s]\n"
          ]
        },
        {
          "output_type": "stream",
          "name": "stdout",
          "text": [
            "Generator Loss: 0.8451\n",
            "Discriminator Loss: 1.8917\n",
            "Epoch 82/500\n"
          ]
        },
        {
          "output_type": "stream",
          "name": "stderr",
          "text": [
            "100%|██████████| 3/3 [00:02<00:00,  1.36it/s]\n"
          ]
        },
        {
          "output_type": "stream",
          "name": "stdout",
          "text": [
            "Generator Loss: 1.0239\n",
            "Discriminator Loss: 1.8102\n",
            "Epoch 83/500\n"
          ]
        },
        {
          "output_type": "stream",
          "name": "stderr",
          "text": [
            "100%|██████████| 3/3 [00:02<00:00,  1.18it/s]\n"
          ]
        },
        {
          "output_type": "stream",
          "name": "stdout",
          "text": [
            "Generator Loss: 0.8383\n",
            "Discriminator Loss: 1.7742\n",
            "Epoch 84/500\n"
          ]
        },
        {
          "output_type": "stream",
          "name": "stderr",
          "text": [
            "100%|██████████| 3/3 [00:02<00:00,  1.36it/s]\n"
          ]
        },
        {
          "output_type": "stream",
          "name": "stdout",
          "text": [
            "Generator Loss: 0.9139\n",
            "Discriminator Loss: 1.7861\n",
            "Epoch 85/500\n"
          ]
        },
        {
          "output_type": "stream",
          "name": "stderr",
          "text": [
            "100%|██████████| 3/3 [00:02<00:00,  1.34it/s]\n"
          ]
        },
        {
          "output_type": "stream",
          "name": "stdout",
          "text": [
            "Generator Loss: 1.1814\n",
            "Discriminator Loss: 1.8058\n",
            "Epoch 86/500\n"
          ]
        },
        {
          "output_type": "stream",
          "name": "stderr",
          "text": [
            "100%|██████████| 3/3 [00:02<00:00,  1.35it/s]\n"
          ]
        },
        {
          "output_type": "stream",
          "name": "stdout",
          "text": [
            "Generator Loss: 0.6755\n",
            "Discriminator Loss: 1.8222\n",
            "Epoch 87/500\n"
          ]
        },
        {
          "output_type": "stream",
          "name": "stderr",
          "text": [
            "\r  0%|          | 0/3 [00:00<?, ?it/s]"
          ]
        }
      ]
    },
    {
      "cell_type": "code",
      "source": [
        "!zip -r generator.zip generator_model_final/"
      ],
      "metadata": {
        "colab": {
          "base_uri": "https://localhost:8080/"
        },
        "id": "xI_SvtfF6BPL",
        "outputId": "1da6f294-4a1b-459f-d3ce-4899275d9b66"
      },
      "execution_count": 5,
      "outputs": [
        {
          "output_type": "stream",
          "name": "stdout",
          "text": [
            "  adding: generator_model_final/ (stored 0%)\n",
            "  adding: generator_model_final/saved_model.pb (deflated 88%)\n",
            "  adding: generator_model_final/assets/ (stored 0%)\n",
            "  adding: generator_model_final/variables/ (stored 0%)\n",
            "  adding: generator_model_final/variables/variables.data-00000-of-00001 (deflated 8%)\n",
            "  adding: generator_model_final/variables/variables.index (deflated 69%)\n",
            "  adding: generator_model_final/fingerprint.pb (stored 0%)\n"
          ]
        }
      ]
    },
    {
      "cell_type": "code",
      "source": [
        "!zip -r trainingimages.zip /content/datasets/oslomini/images/images"
      ],
      "metadata": {
        "id": "wTEdeFX46TaB"
      },
      "execution_count": null,
      "outputs": []
    }
  ]
}